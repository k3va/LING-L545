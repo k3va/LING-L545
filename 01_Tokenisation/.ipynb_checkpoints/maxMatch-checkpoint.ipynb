{
 "cells": [
  {
   "cell_type": "code",
   "execution_count": 2,
   "id": "15126936-3cc8-470d-9221-7597f773e4cd",
   "metadata": {},
   "outputs": [],
   "source": [
    "#Maxmatch algorithm: returns word sequence\n",
    "def maxMatch(sentence, dict):\n",
    "    \n",
    "    if len(sentence) == 0:\n",
    "        return []\n",
    "    for i in range(len(sentence), 0, -1):\n",
    "        firstword = sentence[:i]\n",
    "        remainder = sentence[i:]\n",
    "        #if word is found\n",
    "        if firstword in dict:\n",
    "            word_seq.append(firstword)\n",
    "            return word_seq.append(maxMatch(remainder, dict))\n",
    "        \n",
    "    #if no word is found, make a one-character word\n",
    "    firstword = sentence[0]\n",
    "    remainder = sentence[1:]\n",
    "    word_seq.append(firstword)\n",
    "    return word_seq.append(maxMatch(remainder, dict))\n",
    "    "
   ]
  },
  {
   "cell_type": "code",
   "execution_count": null,
   "id": "8439edab-dc34-4165-aac3-79859fdc3f82",
   "metadata": {},
   "outputs": [],
   "source": [
    "import sys\n",
    "\n",
    "#run maxMatch on arguments from command line\n",
    "sentence = sys.argv[0]\n",
    "dictionary = sys.argv[1]\n",
    "word_seq = []\n",
    "while len(sentence) !=0:\n",
    "    tokens = maxMatch(sentence, dictionary)\n",
    "print(word_seq)"
   ]
  },
  {
   "cell_type": "code",
   "execution_count": null,
   "id": "26b76bd7-6447-457d-8b0b-801f35661435",
   "metadata": {},
   "outputs": [],
   "source": []
  }
 ],
 "metadata": {
  "kernelspec": {
   "display_name": "Python 3 (ipykernel)",
   "language": "python",
   "name": "python3"
  },
  "language_info": {
   "codemirror_mode": {
    "name": "ipython",
    "version": 3
   },
   "file_extension": ".py",
   "mimetype": "text/x-python",
   "name": "python",
   "nbconvert_exporter": "python",
   "pygments_lexer": "ipython3",
   "version": "3.8.10"
  }
 },
 "nbformat": 4,
 "nbformat_minor": 5
}
